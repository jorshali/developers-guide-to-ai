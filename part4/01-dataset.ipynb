{
 "cells": [
  {
   "cell_type": "code",
   "execution_count": 15,
   "metadata": {},
   "outputs": [],
   "source": [
    "from datasets import load_dataset"
   ]
  },
  {
   "cell_type": "markdown",
   "metadata": {},
   "source": [
    "# Load and create the dataset"
   ]
  },
  {
   "cell_type": "code",
   "execution_count": 16,
   "metadata": {},
   "outputs": [],
   "source": [
    "path_to_raw_data_in_bank = \"rawData/in_bank.csv\"\n",
    "path_to_raw_data_in_school = \"rawData/in_school.csv\"\n",
    "path_to_raw_data_us_bank = \"rawData/us_bank.csv\"\n",
    "path_to_raw_data_us_school = \"rawData/us_school.csv\""
   ]
  },
  {
   "cell_type": "code",
   "execution_count": 17,
   "metadata": {},
   "outputs": [],
   "source": [
    "ds_in_bank = load_dataset(\"csv\", data_files=path_to_raw_data_in_bank)\n",
    "ds_in_school = load_dataset(\"csv\", data_files=path_to_raw_data_in_school)\n",
    "ds_us_bank = load_dataset(\"csv\", data_files=path_to_raw_data_us_bank)\n",
    "ds_us_school = load_dataset(\"csv\", data_files=path_to_raw_data_us_school)"
   ]
  },
  {
   "cell_type": "code",
   "execution_count": 18,
   "metadata": {},
   "outputs": [
    {
     "name": "stdout",
     "output_type": "stream",
     "text": [
      "DatasetDict({\n",
      "    train: Dataset({\n",
      "        features: ['text', 'label'],\n",
      "        num_rows: 100\n",
      "    })\n",
      "})\n"
     ]
    }
   ],
   "source": [
    "print(ds_in_bank)"
   ]
  },
  {
   "cell_type": "code",
   "execution_count": 19,
   "metadata": {},
   "outputs": [
    {
     "name": "stdout",
     "output_type": "stream",
     "text": [
      "{'text': '05-06-2025 Dear Arjun Krishnan Nair, Account XX4521 debited INR 18750.00 on 05-06-2025 09:15:22 IST by ACH-DR-TP ACH', 'label': 'IN_Bank'}\n"
     ]
    }
   ],
   "source": [
    "print(ds_in_bank[\"train\"][0])"
   ]
  },
  {
   "cell_type": "code",
   "execution_count": 20,
   "metadata": {},
   "outputs": [],
   "source": [
    "from datasets import DatasetDict"
   ]
  },
  {
   "cell_type": "code",
   "execution_count": 23,
   "metadata": {},
   "outputs": [],
   "source": [
    "ds_in_bank_train_test_split = ds_in_bank['train'].train_test_split(test_size=0.2, shuffle=True, seed=42)\n",
    "ds_in_bank_test_valid_split = ds_in_bank_train_test_split['test'].train_test_split(test_size=0.5, shuffle=True, seed=42)\n",
    "\n",
    "ds_in_bank_split = DatasetDict({\n",
    "    'train': ds_in_bank_train_test_split['train'],\n",
    "    'validation': ds_in_bank_test_valid_split['train'],\n",
    "    'test': ds_in_bank_test_valid_split['test']\n",
    "})\n",
    "\n",
    "ds_in_school_train_test_split = ds_in_school['train'].train_test_split(test_size=0.2, shuffle=True, seed=42)\n",
    "ds_in_school_test_valid_split = ds_in_school_train_test_split['test'].train_test_split(test_size=0.5, shuffle=True, seed=42)\n",
    "\n",
    "ds_in_school_split = DatasetDict({\n",
    "    'train': ds_in_school_train_test_split['train'],\n",
    "    'validation': ds_in_school_test_valid_split['train'],\n",
    "    'test': ds_in_school_test_valid_split['test']\n",
    "})\n",
    "\n",
    "ds_us_bank_train_test_split = ds_us_bank['train'].train_test_split(test_size=0.2, shuffle=True, seed=42)\n",
    "ds_us_bank_test_valid_split = ds_us_bank_train_test_split['test'].train_test_split(test_size=0.5, shuffle=True, seed=42)\n",
    "\n",
    "ds_us_bank_split = DatasetDict({\n",
    "    'train': ds_us_bank_train_test_split['train'],\n",
    "    'validation': ds_us_bank_test_valid_split['train'],\n",
    "    'test': ds_us_bank_test_valid_split['test']\n",
    "})\n",
    "\n",
    "ds_us_school_train_test_split = ds_us_school['train'].train_test_split(test_size=0.2, shuffle=True, seed=42)\n",
    "ds_us_school_test_valid_split = ds_us_school_train_test_split['test'].train_test_split(test_size=0.5, shuffle=True, seed=42)\n",
    "\n",
    "ds_us_school_split = DatasetDict({\n",
    "    'train': ds_us_school_train_test_split['train'],\n",
    "    'validation': ds_us_school_test_valid_split['train'],\n",
    "    'test': ds_us_school_test_valid_split['test']\n",
    "})\n"
   ]
  },
  {
   "cell_type": "code",
   "execution_count": 22,
   "metadata": {},
   "outputs": [
    {
     "name": "stdout",
     "output_type": "stream",
     "text": [
      "{'text': '05-12-2024 Dear Customer, INR 25000.00 credited to A/c XX3695 on 05-12-24 at 14:20:45 IST. Ref: NEFT/SALARY/EMP789456', 'label': 'IN_Bank'}\n"
     ]
    }
   ],
   "source": [
    "print(ds_in_bank_split[\"train\"][0])"
   ]
  },
  {
   "cell_type": "markdown",
   "metadata": {},
   "source": [
    "# Combining datasets"
   ]
  },
  {
   "cell_type": "code",
   "execution_count": 24,
   "metadata": {},
   "outputs": [],
   "source": [
    "from datasets import concatenate_datasets"
   ]
  },
  {
   "cell_type": "code",
   "execution_count": null,
   "metadata": {},
   "outputs": [],
   "source": [
    "ds_combined_train = concatenate_datasets([\n",
    "\tds_in_bank_split[\"train\"],\n",
    "\tds_in_school_split[\"train\"],\n",
    "\tds_us_bank_split[\"train\"],\n",
    "\tds_us_school_split[\"train\"]\n",
    "])\n",
    "\n",
    "ds_combined_validate = concatenate_datasets([\n",
    "\tds_in_bank_split[\"validation\"],\n",
    "\tds_in_school_split[\"validation\"],\n",
    "\tds_us_bank_split[\"validation\"],\n",
    "\tds_us_school_split[\"validation\"]\n",
    "])\n",
    "\n",
    "ds_combined_test = concatenate_datasets([\n",
    "\tds_in_bank_split[\"test\"],\n",
    "\tds_in_school_split[\"test\"],\n",
    "\tds_us_bank_split[\"test\"],\n",
    "\tds_us_school_split[\"test\"]\n",
    "])\n",
    "\n",
    "ds_combined_train = ds_combined_train.shuffle(seed=42)\n",
    "ds_combined_validate = ds_combined_validate.shuffle(seed=42)\n",
    "ds_combined_test = ds_combined_test.shuffle(seed=42)\n",
    "\n",
    "ds_combined = DatasetDict({\n",
    "\t\"train\": ds_combined_train,\n",
    "\t\"validation\": ds_combined_validate,\n",
    "\t\"test\": ds_combined_test\n",
    "})"
   ]
  },
  {
   "cell_type": "code",
   "execution_count": 26,
   "metadata": {},
   "outputs": [
    {
     "name": "stderr",
     "output_type": "stream",
     "text": [
      "Saving the dataset (1/1 shards): 100%|██████████| 335/335 [00:00<00:00, 53651.99 examples/s]\n",
      "Saving the dataset (1/1 shards): 100%|██████████| 42/42 [00:00<00:00, 10497.01 examples/s]\n",
      "Saving the dataset (1/1 shards): 100%|██████████| 43/43 [00:00<00:00, 17704.43 examples/s]\n"
     ]
    }
   ],
   "source": [
    "ds_combined.save_to_disk(\"./data/mail_dataset\")"
   ]
  },
  {
   "cell_type": "markdown",
   "metadata": {},
   "source": [
    "# Load dataset from disk"
   ]
  },
  {
   "cell_type": "code",
   "execution_count": 27,
   "metadata": {},
   "outputs": [
    {
     "data": {
      "text/plain": [
       "DatasetDict({\n",
       "    train: Dataset({\n",
       "        features: ['text', 'label'],\n",
       "        num_rows: 335\n",
       "    })\n",
       "    validation: Dataset({\n",
       "        features: ['text', 'label'],\n",
       "        num_rows: 42\n",
       "    })\n",
       "    test: Dataset({\n",
       "        features: ['text', 'label'],\n",
       "        num_rows: 43\n",
       "    })\n",
       "})"
      ]
     },
     "execution_count": 27,
     "metadata": {},
     "output_type": "execute_result"
    }
   ],
   "source": [
    "from datasets import load_from_disk\n",
    "ds = load_from_disk(\"./data/mail_dataset\")\n",
    "ds"
   ]
  },
  {
   "cell_type": "code",
   "execution_count": 28,
   "metadata": {},
   "outputs": [
    {
     "name": "stdout",
     "output_type": "stream",
     "text": [
      "{'text': Value(dtype='string', id=None), 'label': Value(dtype='string', id=None)}\n"
     ]
    }
   ],
   "source": [
    "print(ds[\"train\"].features)"
   ]
  },
  {
   "cell_type": "markdown",
   "metadata": {},
   "source": [
    "# Fixing the label"
   ]
  },
  {
   "cell_type": "code",
   "execution_count": 29,
   "metadata": {},
   "outputs": [],
   "source": [
    "lable_names = [\n",
    "\t\"IN_Bank\",\n",
    "\t\"IN_School\",\n",
    "\t\"US_Bank\",\n",
    "\t\"US_School\"\n",
    "]\n",
    "\n",
    "label2IdMap = {\n",
    "\t\"IN_Bank\": 0,\n",
    "\t\"IN_School\": 1,\n",
    "\t\"US_Bank\": 2,\n",
    "\t\"US_School\": 3\n",
    "}"
   ]
  },
  {
   "cell_type": "code",
   "execution_count": 30,
   "metadata": {},
   "outputs": [
    {
     "name": "stderr",
     "output_type": "stream",
     "text": [
      "Casting the dataset: 100%|██████████| 335/335 [00:00<00:00, 50888.84 examples/s]\n",
      "Casting the dataset: 100%|██████████| 42/42 [00:00<00:00, 20854.83 examples/s]\n",
      "Casting the dataset: 100%|██████████| 43/43 [00:00<00:00, 12434.85 examples/s]\n",
      "Aligning the labels: 100%|██████████| 335/335 [00:00<00:00, 94874.53 examples/s]\n",
      "Aligning the labels: 100%|██████████| 42/42 [00:00<00:00, 24973.17 examples/s]\n",
      "Aligning the labels: 100%|██████████| 43/43 [00:00<00:00, 24699.41 examples/s]\n"
     ]
    }
   ],
   "source": [
    "from datasets import ClassLabel\n",
    "\n",
    "ds = ds.cast_column(\"label\", ClassLabel(names=lable_names))\n",
    "ds = ds.align_labels_with_mapping(label2IdMap, \"label\")"
   ]
  },
  {
   "cell_type": "code",
   "execution_count": 31,
   "metadata": {},
   "outputs": [
    {
     "name": "stdout",
     "output_type": "stream",
     "text": [
      "{'text': Value(dtype='string', id=None), 'label': ClassLabel(names=['IN_Bank', 'IN_School', 'US_Bank', 'US_School'], id=None)}\n"
     ]
    }
   ],
   "source": [
    "print(ds[\"train\"].features)"
   ]
  },
  {
   "cell_type": "code",
   "execution_count": 32,
   "metadata": {},
   "outputs": [
    {
     "name": "stderr",
     "output_type": "stream",
     "text": [
      "Saving the dataset (1/1 shards): 100%|██████████| 335/335 [00:00<00:00, 81748.42 examples/s]\n",
      "Saving the dataset (1/1 shards): 100%|██████████| 42/42 [00:00<00:00, 17031.88 examples/s]\n",
      "Saving the dataset (1/1 shards): 100%|██████████| 43/43 [00:00<00:00, 17695.75 examples/s]\n"
     ]
    }
   ],
   "source": [
    "ds.save_to_disk(\"./data/mail_dataset_labeled\")"
   ]
  },
  {
   "cell_type": "code",
   "execution_count": 33,
   "metadata": {},
   "outputs": [
    {
     "data": {
      "text/plain": [
       "{'text': Value(dtype='string', id=None),\n",
       " 'label': ClassLabel(names=['IN_Bank', 'IN_School', 'US_Bank', 'US_School'], id=None)}"
      ]
     },
     "execution_count": 33,
     "metadata": {},
     "output_type": "execute_result"
    }
   ],
   "source": [
    "ds_labeled = load_from_disk(\"./data/mail_dataset_labeled\")\n",
    "ds_labeled[\"train\"].features\n"
   ]
  }
 ],
 "metadata": {
  "kernelspec": {
   "display_name": "02-fine-tuning",
   "language": "python",
   "name": "python3"
  },
  "language_info": {
   "codemirror_mode": {
    "name": "ipython",
    "version": 3
   },
   "file_extension": ".py",
   "mimetype": "text/x-python",
   "name": "python",
   "nbconvert_exporter": "python",
   "pygments_lexer": "ipython3",
   "version": "3.13.2"
  }
 },
 "nbformat": 4,
 "nbformat_minor": 2
}
