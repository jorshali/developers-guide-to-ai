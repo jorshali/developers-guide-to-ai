{
 "cells": [
  {
   "cell_type": "code",
   "execution_count": 1,
   "id": "99914c9b",
   "metadata": {},
   "outputs": [
    {
     "name": "stderr",
     "output_type": "stream",
     "text": [
      "/Users/jerry/workspace/book-repo/02-fine-tuning/lib/python3.13/site-packages/tqdm/auto.py:21: TqdmWarning: IProgress not found. Please update jupyter and ipywidgets. See https://ipywidgets.readthedocs.io/en/stable/user_install.html\n",
      "  from .autonotebook import tqdm as notebook_tqdm\n"
     ]
    }
   ],
   "source": [
    "from transformers import AutoTokenizer, AutoModelForCausalLM"
   ]
  },
  {
   "cell_type": "code",
   "execution_count": 2,
   "id": "449ed7c9",
   "metadata": {},
   "outputs": [],
   "source": [
    "model_id = \"Qwen/Qwen3-0.6B\""
   ]
  },
  {
   "cell_type": "code",
   "execution_count": 3,
   "id": "9cfa9097",
   "metadata": {},
   "outputs": [],
   "source": [
    "tokenizer = AutoTokenizer.from_pretrained(model_id)\n",
    "model = AutoModelForCausalLM.from_pretrained(model_id)"
   ]
  },
  {
   "cell_type": "markdown",
   "id": "6a121091",
   "metadata": {},
   "source": [
    "# Simple promptimng"
   ]
  },
  {
   "cell_type": "code",
   "execution_count": 4,
   "id": "559b29c5",
   "metadata": {},
   "outputs": [],
   "source": [
    "prompt = [\n",
    " {\n",
    "    \"role\": \"system\",\n",
    "    \"content\": \"You are a helpful geography assistant. You are able to answer questions about the world.\"\n",
    " },\n",
    " {\n",
    "    \"role\": \"user\",\n",
    "    \"content\": \"What is the capital of France?\"\n",
    " }\n",
    "]"
   ]
  },
  {
   "cell_type": "code",
   "execution_count": 5,
   "id": "b93174a9",
   "metadata": {},
   "outputs": [],
   "source": [
    "tokenized_input = tokenizer.apply_chat_template(\n",
    "    prompt,\n",
    "    tokenize=True,\n",
    "    return_tensors=\"pt\"\n",
    ")"
   ]
  },
  {
   "cell_type": "code",
   "execution_count": 6,
   "id": "6406a119",
   "metadata": {},
   "outputs": [
    {
     "name": "stderr",
     "output_type": "stream",
     "text": [
      "The attention mask is not set and cannot be inferred from input because pad token is same as eos token. As a consequence, you may observe unexpected behavior. Please pass your input's `attention_mask` to obtain reliable results.\n"
     ]
    },
    {
     "name": "stdout",
     "output_type": "stream",
     "text": [
      "system\n",
      "You are a helpful geography assistant. You are able to answer questions about the world.\n",
      "user\n",
      "What is the capital of France?\n",
      "\n",
      "\n",
      "Okay, the user is asking for the capital of France. I know that France's capital is Paris. But wait, maybe they want more details? Let me make sure. I should confirm the capital once again to avoid any confusion\n"
     ]
    }
   ],
   "source": [
    "output_text = model.generate(tokenized_input, max_new_tokens=50)\n",
    "print(tokenizer.decode(output_text[0], skip_special_tokens=True))"
   ]
  },
  {
   "cell_type": "markdown",
   "id": "c2b52e62",
   "metadata": {},
   "source": [
    "# Customizing the chat response"
   ]
  },
  {
   "cell_type": "code",
   "execution_count": 7,
   "id": "1b25524d",
   "metadata": {},
   "outputs": [],
   "source": [
    "prompt = [\n",
    " {\n",
    "    \"role\": \"system\",\n",
    "    \"content\": \"You are a helpful geography assistant. You are able to answer questions about the world.\"\n",
    " },\n",
    " {\n",
    "    \"role\": \"user\",\n",
    "    \"content\": \"What is the capital of France?\"\n",
    " },\n",
    " {\n",
    "    \"role\": \"assistant\",\n",
    "    \"content\": \"GA: \"\n",
    " }\n",
    "]"
   ]
  },
  {
   "cell_type": "code",
   "execution_count": 8,
   "id": "ff56ec09",
   "metadata": {},
   "outputs": [
    {
     "name": "stdout",
     "output_type": "stream",
     "text": [
      "system\n",
      "You are a helpful geography assistant. You are able to answer questions about the world.\n",
      "user\n",
      "What is the capital of France?\n",
      "assistant\n",
      "<think>\n",
      "\n",
      "</think>\n",
      "\n",
      "GA: \n",
      "\n"
     ]
    }
   ],
   "source": [
    "tokenized_input = tokenizer.apply_chat_template(\n",
    "    prompt,\n",
    "    tokenize=True,\n",
    "    return_tensors=\"pt\"\n",
    ")\n",
    "output_text = model.generate(tokenized_input, max_new_tokens=50)\n",
    "print(tokenizer.decode(output_text[0], skip_special_tokens=True))"
   ]
  },
  {
   "cell_type": "markdown",
   "id": "d1f1467a",
   "metadata": {},
   "source": [
    "## Fixing it"
   ]
  },
  {
   "cell_type": "code",
   "execution_count": 14,
   "id": "559c2c27",
   "metadata": {},
   "outputs": [
    {
     "name": "stdout",
     "output_type": "stream",
     "text": [
      "system\n",
      "You are a helpful geography assistant. You are able to answer questions about the world.\n",
      "user\n",
      "What is the capital of France?\n",
      "assistant\n",
      "<think>\n",
      "\n",
      "</think>\n",
      "\n",
      "GA: 1. The capital of France is **Paris**.\n"
     ]
    }
   ],
   "source": [
    "tokenized_input = tokenizer.apply_chat_template(\n",
    "    prompt,\n",
    "    tokenize=True,\n",
    "    return_tensors=\"pt\",\n",
    "    continue_final_message=True,\n",
    ")\n",
    "output_text = model.generate(tokenized_input, max_new_tokens=100)\n",
    "print(tokenizer.decode(output_text[0], skip_special_tokens=True))"
   ]
  }
 ],
 "metadata": {
  "kernelspec": {
   "display_name": "02-fine-tuning",
   "language": "python",
   "name": "python3"
  },
  "language_info": {
   "codemirror_mode": {
    "name": "ipython",
    "version": 3
   },
   "file_extension": ".py",
   "mimetype": "text/x-python",
   "name": "python",
   "nbconvert_exporter": "python",
   "pygments_lexer": "ipython3",
   "version": "3.13.2"
  }
 },
 "nbformat": 4,
 "nbformat_minor": 5
}
