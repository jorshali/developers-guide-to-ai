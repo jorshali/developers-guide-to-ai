{
 "cells": [
  {
   "cell_type": "code",
   "execution_count": 30,
   "id": "eeae7510",
   "metadata": {},
   "outputs": [],
   "source": [
    "from transformers import AutoTokenizer\n",
    "from datasets import load_from_disk, Dataset, DatasetDict"
   ]
  },
  {
   "cell_type": "markdown",
   "id": "aa445482",
   "metadata": {},
   "source": [
    "# Model"
   ]
  },
  {
   "cell_type": "code",
   "execution_count": 2,
   "id": "5dd9ed29",
   "metadata": {},
   "outputs": [],
   "source": [
    "model_id = \"Qwen/Qwen2.5-0.5B-Instruct\""
   ]
  },
  {
   "cell_type": "code",
   "execution_count": 3,
   "id": "1656fb96",
   "metadata": {},
   "outputs": [],
   "source": [
    "tokenizer = AutoTokenizer.from_pretrained(model_id)"
   ]
  },
  {
   "cell_type": "code",
   "execution_count": 4,
   "id": "712edd8e",
   "metadata": {},
   "outputs": [],
   "source": [
    "dataset = load_from_disk(\"./data/mail_dataset_labeled\")"
   ]
  },
  {
   "cell_type": "markdown",
   "id": "dfe7abd2",
   "metadata": {},
   "source": [
    "# Dataset"
   ]
  },
  {
   "cell_type": "code",
   "execution_count": 5,
   "id": "4939f466",
   "metadata": {},
   "outputs": [
    {
     "data": {
      "text/plain": [
       "DatasetDict({\n",
       "    train: Dataset({\n",
       "        features: ['text', 'label'],\n",
       "        num_rows: 335\n",
       "    })\n",
       "    validation: Dataset({\n",
       "        features: ['text', 'label'],\n",
       "        num_rows: 42\n",
       "    })\n",
       "    test: Dataset({\n",
       "        features: ['text', 'label'],\n",
       "        num_rows: 43\n",
       "    })\n",
       "})"
      ]
     },
     "execution_count": 5,
     "metadata": {},
     "output_type": "execute_result"
    }
   ],
   "source": [
    "dataset"
   ]
  },
  {
   "cell_type": "code",
   "execution_count": 6,
   "id": "92ef5190",
   "metadata": {},
   "outputs": [],
   "source": [
    "label_names = [\"IN_Bank\", \"IN_School\", \"US_Bank\", \"US_School\"]"
   ]
  },
  {
   "cell_type": "code",
   "execution_count": 7,
   "id": "2e59f4b8",
   "metadata": {},
   "outputs": [],
   "source": [
    "message_system = \"\"\"\n",
    "You are a helpful mail sorting assistant.\n",
    "You will classify the email summary into one of the following categories:\"India Bank\", \"India School\", \"US Bank\", \"US School\"\n",
    "No explanation is needed.\n",
    "The output should only be one of the following: \"India Bank\", \"India School\", \"US Bank\", \"US School\"\n",
    "\"\"\""
   ]
  },
  {
   "cell_type": "markdown",
   "id": "52482eb0",
   "metadata": {},
   "source": [
    "## Transforming the train and validation datasets"
   ]
  },
  {
   "cell_type": "code",
   "execution_count": 10,
   "id": "dedbdf62",
   "metadata": {},
   "outputs": [],
   "source": [
    "def convert_to_training_messages(dataset):\n",
    " messages = [\n",
    "   [\n",
    "    {\n",
    "        \"role\": \"system\", \n",
    "        \"content\": message_system\n",
    "    },\n",
    "    {\n",
    "        \"role\": \"user\",\n",
    "        \"content\": f\"Categorise: {ds['text']}\"\n",
    "    },\n",
    "    {\n",
    "        \"role\": \"assistant\",\n",
    "        \"content\": f\"Category: {label_names[ds['label']]}\"\n",
    "    }\n",
    "   ] for ds in dataset\n",
    " ]\n",
    " texts = [\n",
    "  tokenizer.apply_chat_template(message, tokenize=False) \n",
    "    for message in messages\n",
    " ]\n",
    " return {\"text\": texts}"
   ]
  },
  {
   "cell_type": "code",
   "execution_count": 11,
   "id": "5702948d",
   "metadata": {},
   "outputs": [],
   "source": [
    "ds_train = convert_to_chat_messages(dataset[\"train\"])\n",
    "ds_val = convert_to_chat_messages(dataset[\"validation\"])"
   ]
  },
  {
   "cell_type": "markdown",
   "id": "7b03b9b8",
   "metadata": {},
   "source": [
    "## Transforming the test dataset"
   ]
  },
  {
   "cell_type": "code",
   "execution_count": null,
   "id": "33d36ab2",
   "metadata": {},
   "outputs": [],
   "source": [
    "def convert_to_prompting_messages(dataset):\n",
    "  data = []\n",
    "  for ds in dataset:\n",
    "    message = [\n",
    "      {\n",
    "        \"role\": \"system\", \n",
    "        \"content\": message_system\n",
    "      },\n",
    "      {\n",
    "          \"role\": \"user\",\n",
    "          \"content\": f\"Categorise: {ds['text']}\"\n",
    "      }\n",
    "    ]\n",
    "    chat_message = tokenizer.apply_chat_template(\n",
    "      message,\n",
    "      tokenize=False,\n",
    "      add_generation_prompt=True,\n",
    "    )\n",
    "    data.append(\n",
    "      {\n",
    "        \"text\": chat_message,\n",
    "        \"label\": ds[\"label\"]\n",
    "      }\n",
    "    )\n",
    "  return {\"items\": data}"
   ]
  },
  {
   "cell_type": "code",
   "execution_count": 27,
   "id": "cb320e25",
   "metadata": {},
   "outputs": [],
   "source": [
    "ds_test = convert_to_prompting_messages(dataset[\"test\"])"
   ]
  },
  {
   "cell_type": "markdown",
   "id": "8e27194b",
   "metadata": {},
   "source": [
    "# Create dataset"
   ]
  },
  {
   "cell_type": "code",
   "execution_count": 28,
   "id": "d1f8d680",
   "metadata": {},
   "outputs": [],
   "source": [
    "ds_train = Dataset.from_dict(ds_train)\n",
    "ds_val = Dataset.from_dict(ds_val)\n",
    "ds_test = Dataset.from_dict(ds_test)"
   ]
  },
  {
   "cell_type": "code",
   "execution_count": 31,
   "id": "1cb63c81",
   "metadata": {},
   "outputs": [],
   "source": [
    "ds_combined = DatasetDict({\n",
    "\t\"train\": ds_train,\n",
    "\t\"validation\": ds_val,\n",
    "\t\"test\": ds_test\n",
    "})"
   ]
  },
  {
   "cell_type": "code",
   "execution_count": 32,
   "id": "aceff901",
   "metadata": {},
   "outputs": [
    {
     "name": "stderr",
     "output_type": "stream",
     "text": [
      "Saving the dataset (1/1 shards): 100%|██████████| 335/335 [00:00<00:00, 26733.61 examples/s]\n",
      "Saving the dataset (1/1 shards): 100%|██████████| 42/42 [00:00<00:00, 8143.90 examples/s] \n",
      "Saving the dataset (1/1 shards): 100%|██████████| 43/43 [00:00<00:00, 15751.53 examples/s]\n"
     ]
    }
   ],
   "source": [
    "ds_combined.save_to_disk(\"./data/llm_mail_dataset\")"
   ]
  },
  {
   "cell_type": "markdown",
   "id": "bc89c8b9",
   "metadata": {},
   "source": [
    "# Load and test"
   ]
  },
  {
   "cell_type": "code",
   "execution_count": 33,
   "id": "6e06be09",
   "metadata": {},
   "outputs": [
    {
     "data": {
      "text/plain": [
       "DatasetDict({\n",
       "    train: Dataset({\n",
       "        features: ['text'],\n",
       "        num_rows: 335\n",
       "    })\n",
       "    validation: Dataset({\n",
       "        features: ['text'],\n",
       "        num_rows: 42\n",
       "    })\n",
       "    test: Dataset({\n",
       "        features: ['items'],\n",
       "        num_rows: 43\n",
       "    })\n",
       "})"
      ]
     },
     "execution_count": 33,
     "metadata": {},
     "output_type": "execute_result"
    }
   ],
   "source": [
    "ds_llm = load_from_disk(\"./data/llm_mail_dataset\")\n",
    "ds_llm"
   ]
  }
 ],
 "metadata": {
  "kernelspec": {
   "display_name": "02-fine-tuning",
   "language": "python",
   "name": "python3"
  },
  "language_info": {
   "codemirror_mode": {
    "name": "ipython",
    "version": 3
   },
   "file_extension": ".py",
   "mimetype": "text/x-python",
   "name": "python",
   "nbconvert_exporter": "python",
   "pygments_lexer": "ipython3",
   "version": "3.13.2"
  }
 },
 "nbformat": 4,
 "nbformat_minor": 5
}
